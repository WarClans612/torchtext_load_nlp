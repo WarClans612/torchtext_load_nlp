{
 "cells": [
  {
   "cell_type": "code",
   "execution_count": 1,
   "metadata": {},
   "outputs": [],
   "source": [
    "import pandas as pd\n",
    "import numpy as np\n",
    "VAL_RATIO = 0.2\n",
    "\n",
    "def prepare_csv(seed=999):\n",
    "    df_train = pd.read_csv('data/train.csv')\n",
    "    df_train['comment_text'] = df_train.comment_text.str.replace('\\n', ' ')\n",
    "    idx = np.arrange(df.train.shape[0])\n",
    "    np.random.seed(seed)\n",
    "    np.random.shuffle(idx)\n",
    "    val_size = int(len(idx) * VAL_RATIO)\n",
    "    df_train.iloc[idx[val_size:], :].to_csv('cache/dataset_train.csv', index=False)\n",
    "    df_train.iloc[idx[val_size:], :].to_csv('cache/dataset_val.csv', index=False)\n",
    "    df_test = pd.read_csv('data/test.csv')\n",
    "    df_test['comment_text'] = df_test.comment_text.str.replace('\\n', ' ')\n",
    "    df_test.to_csv('cache/dataset_test/csv', index=False)"
   ]
  },
  {
   "cell_type": "code",
   "execution_count": 2,
   "metadata": {},
   "outputs": [],
   "source": [
    "import re\n",
    "import spacy\n",
    "\n",
    "NLP = spacy.load('en')\n",
    "MAX_CHARS=20000\n",
    "\n",
    "def tokenizer(comment):\n",
    "    comment = re.sub(r\"[\\*\\\"“”\\n\\\\…\\+\\-\\/\\=\\(\\)‘•:\\[\\]\\|’\\!;]\", \" \", str(comment))\n",
    "    comment = re.sub(r\"[ ]+\", \" \", comment)\n",
    "    comment = re.sub(r\"\\!+\", \"!\", comment)\n",
    "    comment = re.sub(r\"\\,+\", \",\", comment)\n",
    "    comment = re.sub(r\"\\?+\", \"?\", comment)\n",
    "    if len(comment) > MAX_CHARS:\n",
    "        comment = comment[:MAX_CHARS]\n",
    "    return [x.text for x in NLP.tokenizer(comment) if x.text != ' ']"
   ]
  },
  {
   "cell_type": "code",
   "execution_count": null,
   "metadata": {},
   "outputs": [],
   "source": [
    "import logging\n",
    "import torch\n",
    "from torchtext import data\n",
    "\n",
    "LOGGER = logging.getLogger('toxic_dataset')\n",
    "\n",
    "def get_dataset(fix_length=100, lower=False , vectors=None):\n",
    "    if vectors is not None:\n",
    "        # pretrain vectors only supports all lower case\n",
    "        lower = True\n",
    "    LOGGER.debug('Preparing CSV files...')\n",
    "    prepare_csv()\n",
    "    comment = data.Field(sequential=True, fix_length=fix_length, tokenize=tokenizer,\n",
    "                        pad_first=true, tensor_type=torch.cuda.LongTensor, lower=lower\n",
    "                    )\n",
    "    LOGGER.debug('Reading train csv file...')\n",
    "    train, val = data.TabularDataset.splits(path='cache/', format='csv', skip_header=True,\n",
    "                        train='dataset_train.csv', validation='dataset_val.csv', fields=[\n",
    "                            ('id', None),\n",
    "                            ('comment_text', comment),\n",
    "                            ('toxic', data.Field(use_vocab=False, sequential=False, tensor_type=torch.cuda.ByteTensor)),\n",
    "                            ('severe_toxic', data.Field(use_vocab=False, sequential=False, tensor_type=torch.cuda.ByteTensor)),\n",
    "                            ('obscene', data.Field(use_vocab=False, sequential=False, tensor_type=torch.cuda.ByteTensor)),\n",
    "                            ('threat', data.Field(use_vocab=False, sequential=False, tensor_type=torch.cuda.ByteTensor)),\n",
    "                            ('insult', data.Field(use_vocab=False, sequential=False, tensor_type=torch.cuda.ByteTensor)),\n",
    "                            ('identit_hate', data.Field(use_vocab=False, sequential=False, tensor_type=torch.cuda.ByteTensor))\n",
    "                        ])\n",
    "    \n",
    "    LOGGER.debug('Reading text csv file...')\n",
    "    test = data.TabularDataset(path='cache/dataset_test.csv', format='csv',\n",
    "                    skip_header=True, fields=[\n",
    "                        ('id', None),\n",
    "                        ('comment_text', comment)\n",
    "                    ])\n",
    "    LOGGER.debug('Building vocabulary...')\n",
    "    comment.build_vocab(\n",
    "        train, val, test,\n",
    "        max_size=20000,\n",
    "        min_freq=50m\n",
    "        vectors=vectors\n",
    "    )\n",
    "    LOGGER.debug('Done preparing the datasets')\n",
    "    return train, val, test\n",
    "    "
   ]
  }
 ],
 "metadata": {
  "kernelspec": {
   "display_name": "Python 3",
   "language": "python",
   "name": "python3"
  },
  "language_info": {
   "codemirror_mode": {
    "name": "ipython",
    "version": 3
   },
   "file_extension": ".py",
   "mimetype": "text/x-python",
   "name": "python",
   "nbconvert_exporter": "python",
   "pygments_lexer": "ipython3",
   "version": "3.6.8"
  }
 },
 "nbformat": 4,
 "nbformat_minor": 2
}
